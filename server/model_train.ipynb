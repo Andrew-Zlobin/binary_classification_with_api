{
 "cells": [
  {
   "cell_type": "code",
   "execution_count": 1,
   "id": "4f732964",
   "metadata": {},
   "outputs": [],
   "source": [
    "import pandas as pd\n",
    "import numpy as np\n",
    "import seaborn as sns"
   ]
  },
  {
   "cell_type": "code",
   "execution_count": 2,
   "id": "08d12a72",
   "metadata": {},
   "outputs": [],
   "source": [
    "whole_data = pd.read_csv(\"train.csv\")"
   ]
  },
  {
   "cell_type": "code",
   "execution_count": 3,
   "id": "1d8f1324",
   "metadata": {},
   "outputs": [
    {
     "data": {
      "text/html": [
       "<div>\n",
       "<style scoped>\n",
       "    .dataframe tbody tr th:only-of-type {\n",
       "        vertical-align: middle;\n",
       "    }\n",
       "\n",
       "    .dataframe tbody tr th {\n",
       "        vertical-align: top;\n",
       "    }\n",
       "\n",
       "    .dataframe thead th {\n",
       "        text-align: right;\n",
       "    }\n",
       "</style>\n",
       "<table border=\"1\" class=\"dataframe\">\n",
       "  <thead>\n",
       "    <tr style=\"text-align: right;\">\n",
       "      <th></th>\n",
       "      <th>id</th>\n",
       "      <th>Gender</th>\n",
       "      <th>Age</th>\n",
       "      <th>Driving_License</th>\n",
       "      <th>Region_Code</th>\n",
       "      <th>Previously_Insured</th>\n",
       "      <th>Vehicle_Age</th>\n",
       "      <th>Vehicle_Damage</th>\n",
       "      <th>Annual_Premium</th>\n",
       "      <th>Policy_Sales_Channel</th>\n",
       "      <th>Vintage</th>\n",
       "      <th>Response</th>\n",
       "    </tr>\n",
       "  </thead>\n",
       "  <tbody>\n",
       "    <tr>\n",
       "      <th>0</th>\n",
       "      <td>0</td>\n",
       "      <td>Male</td>\n",
       "      <td>21</td>\n",
       "      <td>1</td>\n",
       "      <td>35.0</td>\n",
       "      <td>0</td>\n",
       "      <td>1-2 Year</td>\n",
       "      <td>Yes</td>\n",
       "      <td>65101.0</td>\n",
       "      <td>124.0</td>\n",
       "      <td>187</td>\n",
       "      <td>0</td>\n",
       "    </tr>\n",
       "    <tr>\n",
       "      <th>1</th>\n",
       "      <td>1</td>\n",
       "      <td>Male</td>\n",
       "      <td>43</td>\n",
       "      <td>1</td>\n",
       "      <td>28.0</td>\n",
       "      <td>0</td>\n",
       "      <td>&gt; 2 Years</td>\n",
       "      <td>Yes</td>\n",
       "      <td>58911.0</td>\n",
       "      <td>26.0</td>\n",
       "      <td>288</td>\n",
       "      <td>1</td>\n",
       "    </tr>\n",
       "    <tr>\n",
       "      <th>2</th>\n",
       "      <td>2</td>\n",
       "      <td>Female</td>\n",
       "      <td>25</td>\n",
       "      <td>1</td>\n",
       "      <td>14.0</td>\n",
       "      <td>1</td>\n",
       "      <td>&lt; 1 Year</td>\n",
       "      <td>No</td>\n",
       "      <td>38043.0</td>\n",
       "      <td>152.0</td>\n",
       "      <td>254</td>\n",
       "      <td>0</td>\n",
       "    </tr>\n",
       "    <tr>\n",
       "      <th>3</th>\n",
       "      <td>3</td>\n",
       "      <td>Female</td>\n",
       "      <td>35</td>\n",
       "      <td>1</td>\n",
       "      <td>1.0</td>\n",
       "      <td>0</td>\n",
       "      <td>1-2 Year</td>\n",
       "      <td>Yes</td>\n",
       "      <td>2630.0</td>\n",
       "      <td>156.0</td>\n",
       "      <td>76</td>\n",
       "      <td>0</td>\n",
       "    </tr>\n",
       "    <tr>\n",
       "      <th>4</th>\n",
       "      <td>4</td>\n",
       "      <td>Female</td>\n",
       "      <td>36</td>\n",
       "      <td>1</td>\n",
       "      <td>15.0</td>\n",
       "      <td>1</td>\n",
       "      <td>1-2 Year</td>\n",
       "      <td>No</td>\n",
       "      <td>31951.0</td>\n",
       "      <td>152.0</td>\n",
       "      <td>294</td>\n",
       "      <td>0</td>\n",
       "    </tr>\n",
       "  </tbody>\n",
       "</table>\n",
       "</div>"
      ],
      "text/plain": [
       "   id  Gender  Age  Driving_License  Region_Code  Previously_Insured  \\\n",
       "0   0    Male   21                1         35.0                   0   \n",
       "1   1    Male   43                1         28.0                   0   \n",
       "2   2  Female   25                1         14.0                   1   \n",
       "3   3  Female   35                1          1.0                   0   \n",
       "4   4  Female   36                1         15.0                   1   \n",
       "\n",
       "  Vehicle_Age Vehicle_Damage  Annual_Premium  Policy_Sales_Channel  Vintage  \\\n",
       "0    1-2 Year            Yes         65101.0                 124.0      187   \n",
       "1   > 2 Years            Yes         58911.0                  26.0      288   \n",
       "2    < 1 Year             No         38043.0                 152.0      254   \n",
       "3    1-2 Year            Yes          2630.0                 156.0       76   \n",
       "4    1-2 Year             No         31951.0                 152.0      294   \n",
       "\n",
       "   Response  \n",
       "0         0  \n",
       "1         1  \n",
       "2         0  \n",
       "3         0  \n",
       "4         0  "
      ]
     },
     "execution_count": 3,
     "metadata": {},
     "output_type": "execute_result"
    }
   ],
   "source": [
    "whole_data.head()"
   ]
  },
  {
   "cell_type": "code",
   "execution_count": 4,
   "id": "a852ca8c",
   "metadata": {},
   "outputs": [
    {
     "data": {
      "text/plain": [
       "(11504798, 12)"
      ]
     },
     "execution_count": 4,
     "metadata": {},
     "output_type": "execute_result"
    }
   ],
   "source": [
    "whole_data.shape"
   ]
  },
  {
   "cell_type": "code",
   "execution_count": 5,
   "id": "ccededfb",
   "metadata": {},
   "outputs": [],
   "source": [
    "data = whole_data[:5_000_000].copy()"
   ]
  },
  {
   "cell_type": "code",
   "execution_count": 6,
   "id": "44b4cc8e",
   "metadata": {},
   "outputs": [
    {
     "data": {
      "text/plain": [
       "(5000000, 12)"
      ]
     },
     "execution_count": 6,
     "metadata": {},
     "output_type": "execute_result"
    }
   ],
   "source": [
    "data.shape"
   ]
  },
  {
   "cell_type": "code",
   "execution_count": 7,
   "id": "24106f11",
   "metadata": {},
   "outputs": [
    {
     "data": {
      "text/plain": [
       "id                        int64\n",
       "Gender                   object\n",
       "Age                       int64\n",
       "Driving_License           int64\n",
       "Region_Code             float64\n",
       "Previously_Insured        int64\n",
       "Vehicle_Age              object\n",
       "Vehicle_Damage           object\n",
       "Annual_Premium          float64\n",
       "Policy_Sales_Channel    float64\n",
       "Vintage                   int64\n",
       "Response                  int64\n",
       "dtype: object"
      ]
     },
     "execution_count": 7,
     "metadata": {},
     "output_type": "execute_result"
    }
   ],
   "source": [
    "data.dtypes"
   ]
  },
  {
   "cell_type": "code",
   "execution_count": 8,
   "id": "1148b20e",
   "metadata": {},
   "outputs": [
    {
     "name": "stdout",
     "output_type": "stream",
     "text": [
      "Gender ['Male' 'Female']\n",
      "Vehicle_Age ['1-2 Year' '> 2 Years' '< 1 Year']\n",
      "Vehicle_Damage ['Yes' 'No']\n"
     ]
    }
   ],
   "source": [
    "for col_name in data.columns:\n",
    "    if data.dtypes[col_name] == 'O':\n",
    "        print(col_name, data[col_name].unique())"
   ]
  },
  {
   "cell_type": "code",
   "execution_count": 9,
   "id": "8643652c",
   "metadata": {},
   "outputs": [],
   "source": [
    "data[\"Gender\"] = data[\"Gender\"].apply(lambda line: 0 if line == \"Female\" else 1).values\n",
    "data[\"Vehicle_Damage\"] = data[\"Vehicle_Damage\"].apply(lambda line: 0 if line == \"No\" else 1).values\n",
    "# data = data.drop(columns=[\"Gender\", \"Vehicle_Damage\"])\n"
   ]
  },
  {
   "cell_type": "code",
   "execution_count": 10,
   "id": "537c62f9",
   "metadata": {},
   "outputs": [
    {
     "name": "stdout",
     "output_type": "stream",
     "text": [
      "Region_Code 0.0\n",
      "Annual_Premium 0.0\n",
      "Policy_Sales_Channel 0.0\n"
     ]
    }
   ],
   "source": [
    "for col_name in data.columns:\n",
    "    if data.dtypes[col_name] == 'float64':\n",
    "        print(col_name, (data[col_name] - data[col_name].apply(int)).sum())"
   ]
  },
  {
   "cell_type": "code",
   "execution_count": 11,
   "id": "ee7647fd",
   "metadata": {},
   "outputs": [],
   "source": [
    "for col_name in data.columns:\n",
    "    if data.dtypes[col_name] == 'float64':\n",
    "        data[col_name] = data[col_name].apply(int)"
   ]
  },
  {
   "cell_type": "code",
   "execution_count": 12,
   "id": "99817778",
   "metadata": {},
   "outputs": [
    {
     "data": {
      "text/plain": [
       "id                       int64\n",
       "Gender                   int64\n",
       "Age                      int64\n",
       "Driving_License          int64\n",
       "Region_Code              int64\n",
       "Previously_Insured       int64\n",
       "Vehicle_Age             object\n",
       "Vehicle_Damage           int64\n",
       "Annual_Premium           int64\n",
       "Policy_Sales_Channel     int64\n",
       "Vintage                  int64\n",
       "Response                 int64\n",
       "dtype: object"
      ]
     },
     "execution_count": 12,
     "metadata": {},
     "output_type": "execute_result"
    }
   ],
   "source": [
    "data.dtypes"
   ]
  },
  {
   "cell_type": "code",
   "execution_count": 13,
   "id": "eba4c0dc",
   "metadata": {},
   "outputs": [],
   "source": [
    "dummy_car_age = pd.get_dummies(data['Vehicle_Age'], drop_first=True, prefix='Vehicle_Age')\n",
    "data = pd.concat([data, dummy_car_age], axis=1)\n",
    "data = data.drop(columns=[\"Vehicle_Age\"])"
   ]
  },
  {
   "cell_type": "code",
   "execution_count": 14,
   "id": "00439ea7",
   "metadata": {},
   "outputs": [
    {
     "data": {
      "text/plain": [
       "<Axes: >"
      ]
     },
     "execution_count": 14,
     "metadata": {},
     "output_type": "execute_result"
    },
    {
     "data": {
      "image/png": "[encoded data removed]",
      "text/plain": [
       "<Figure size 640x480 with 2 Axes>"
      ]
     },
     "metadata": {},
     "output_type": "display_data"
    }
   ],
   "source": [
    "sns.heatmap(data.corr(), annot=True, fmt=\".1f\")"
   ]
  },
  {
   "cell_type": "code",
   "execution_count": 15,
   "id": "d0a4b716",
   "metadata": {},
   "outputs": [
    {
     "name": "stdout",
     "output_type": "stream",
     "text": [
      "total peoples without licenses :  9868 \n",
      "peoples without license who 'response' 530\n"
     ]
    }
   ],
   "source": [
    "print(\"total peoples without licenses : \", data[\"Driving_License\"].count() - data[\"Driving_License\"].sum(),\n",
    "\"\\npeoples without license who 'response'\", data[data[\"Driving_License\"] == 0][\"Response\"].sum())"
   ]
  },
  {
   "cell_type": "code",
   "execution_count": 16,
   "id": "7745de11",
   "metadata": {},
   "outputs": [],
   "source": [
    "# useless_data = \n",
    "corr_matrix = data.corr()\n",
    "usefull_cols = corr_matrix[\"Response\"][abs(corr_matrix[\"Response\"]) > 0.05].index\n",
    "usefull_cols = list(usefull_cols) + [\"Driving_License\"]"
   ]
  },
  {
   "cell_type": "code",
   "execution_count": 17,
   "id": "b30fc2ea",
   "metadata": {},
   "outputs": [],
   "source": [
    "filtered_data = data.drop(columns=[col for col in data.columns if col not in usefull_cols])"
   ]
  },
  {
   "cell_type": "code",
   "execution_count": 18,
   "id": "ab0f20a9",
   "metadata": {},
   "outputs": [
    {
     "data": {
      "text/html": [
       "<div>\n",
       "<style scoped>\n",
       "    .dataframe tbody tr th:only-of-type {\n",
       "        vertical-align: middle;\n",
       "    }\n",
       "\n",
       "    .dataframe tbody tr th {\n",
       "        vertical-align: top;\n",
       "    }\n",
       "\n",
       "    .dataframe thead th {\n",
       "        text-align: right;\n",
       "    }\n",
       "</style>\n",
       "<table border=\"1\" class=\"dataframe\">\n",
       "  <thead>\n",
       "    <tr style=\"text-align: right;\">\n",
       "      <th></th>\n",
       "      <th>Gender</th>\n",
       "      <th>Age</th>\n",
       "      <th>Driving_License</th>\n",
       "      <th>Previously_Insured</th>\n",
       "      <th>Vehicle_Damage</th>\n",
       "      <th>Policy_Sales_Channel</th>\n",
       "      <th>Response</th>\n",
       "      <th>Vehicle_Age_&lt; 1 Year</th>\n",
       "      <th>Vehicle_Age_&gt; 2 Years</th>\n",
       "    </tr>\n",
       "  </thead>\n",
       "  <tbody>\n",
       "    <tr>\n",
       "      <th>0</th>\n",
       "      <td>1</td>\n",
       "      <td>21</td>\n",
       "      <td>1</td>\n",
       "      <td>0</td>\n",
       "      <td>1</td>\n",
       "      <td>124</td>\n",
       "      <td>0</td>\n",
       "      <td>False</td>\n",
       "      <td>False</td>\n",
       "    </tr>\n",
       "    <tr>\n",
       "      <th>1</th>\n",
       "      <td>1</td>\n",
       "      <td>43</td>\n",
       "      <td>1</td>\n",
       "      <td>0</td>\n",
       "      <td>1</td>\n",
       "      <td>26</td>\n",
       "      <td>1</td>\n",
       "      <td>False</td>\n",
       "      <td>True</td>\n",
       "    </tr>\n",
       "    <tr>\n",
       "      <th>2</th>\n",
       "      <td>0</td>\n",
       "      <td>25</td>\n",
       "      <td>1</td>\n",
       "      <td>1</td>\n",
       "      <td>0</td>\n",
       "      <td>152</td>\n",
       "      <td>0</td>\n",
       "      <td>True</td>\n",
       "      <td>False</td>\n",
       "    </tr>\n",
       "    <tr>\n",
       "      <th>3</th>\n",
       "      <td>0</td>\n",
       "      <td>35</td>\n",
       "      <td>1</td>\n",
       "      <td>0</td>\n",
       "      <td>1</td>\n",
       "      <td>156</td>\n",
       "      <td>0</td>\n",
       "      <td>False</td>\n",
       "      <td>False</td>\n",
       "    </tr>\n",
       "    <tr>\n",
       "      <th>4</th>\n",
       "      <td>0</td>\n",
       "      <td>36</td>\n",
       "      <td>1</td>\n",
       "      <td>1</td>\n",
       "      <td>0</td>\n",
       "      <td>152</td>\n",
       "      <td>0</td>\n",
       "      <td>False</td>\n",
       "      <td>False</td>\n",
       "    </tr>\n",
       "  </tbody>\n",
       "</table>\n",
       "</div>"
      ],
      "text/plain": [
       "   Gender  Age  Driving_License  Previously_Insured  Vehicle_Damage  \\\n",
       "0       1   21                1                   0               1   \n",
       "1       1   43                1                   0               1   \n",
       "2       0   25                1                   1               0   \n",
       "3       0   35                1                   0               1   \n",
       "4       0   36                1                   1               0   \n",
       "\n",
       "   Policy_Sales_Channel  Response  Vehicle_Age_< 1 Year  Vehicle_Age_> 2 Years  \n",
       "0                   124         0                 False                  False  \n",
       "1                    26         1                 False                   True  \n",
       "2                   152         0                  True                  False  \n",
       "3                   156         0                 False                  False  \n",
       "4                   152         0                 False                  False  "
      ]
     },
     "execution_count": 18,
     "metadata": {},
     "output_type": "execute_result"
    }
   ],
   "source": [
    "filtered_data.head()"
   ]
  },
  {
   "cell_type": "code",
   "execution_count": 19,
   "id": "232c4699",
   "metadata": {},
   "outputs": [
    {
     "data": {
      "text/plain": [
       "<Axes: xlabel='Age', ylabel='Count'>"
      ]
     },
     "execution_count": 19,
     "metadata": {},
     "output_type": "execute_result"
    },
    {
     "data": {
      "image/png": "[encoded data removed]",
      "text/plain": [
       "<Figure size 640x480 with 1 Axes>"
      ]
     },
     "metadata": {},
     "output_type": "display_data"
    }
   ],
   "source": [
    "sns.histplot((filtered_data[\"Age\"]))"
   ]
  },
  {
   "cell_type": "code",
   "execution_count": 20,
   "id": "42948c02",
   "metadata": {},
   "outputs": [
    {
     "data": {
      "text/plain": [
       "<Axes: xlabel='Policy_Sales_Channel', ylabel='Count'>"
      ]
     },
     "execution_count": 20,
     "metadata": {},
     "output_type": "execute_result"
    },
    {
     "data": {
      "image/png": "[encoded data removed]",
      "text/plain": [
       "<Figure size 640x480 with 1 Axes>"
      ]
     },
     "metadata": {},
     "output_type": "display_data"
    }
   ],
   "source": [
    "sns.histplot(filtered_data[\"Policy_Sales_Channel\"])"
   ]
  },
  {
   "cell_type": "code",
   "execution_count": 21,
   "id": "18df5327",
   "metadata": {},
   "outputs": [],
   "source": [
    "filtered_data[\"Policy_Sales_Channel_Small\"] = filtered_data[\"Policy_Sales_Channel\"].apply(lambda val : 1 if val < 80 else 0)\n",
    "# filtered_data[\"Policy_Sales_Channel_Middle\"] = filtered_data[\"Policy_Sales_Channel\"].apply(lambda val : 1 if val >= 80 and val < 140 else 0)\n",
    "filtered_data[\"Policy_Sales_Channel_Large\"] = filtered_data[\"Policy_Sales_Channel\"].apply(lambda val : 1 if val > 140 else 0)\n",
    "filtered_data = filtered_data.drop(columns=[\"Policy_Sales_Channel\"])"
   ]
  },
  {
   "cell_type": "code",
   "execution_count": 22,
   "id": "affe3edf",
   "metadata": {},
   "outputs": [
    {
     "data": {
      "text/html": [
       "<div>\n",
       "<style scoped>\n",
       "    .dataframe tbody tr th:only-of-type {\n",
       "        vertical-align: middle;\n",
       "    }\n",
       "\n",
       "    .dataframe tbody tr th {\n",
       "        vertical-align: top;\n",
       "    }\n",
       "\n",
       "    .dataframe thead th {\n",
       "        text-align: right;\n",
       "    }\n",
       "</style>\n",
       "<table border=\"1\" class=\"dataframe\">\n",
       "  <thead>\n",
       "    <tr style=\"text-align: right;\">\n",
       "      <th></th>\n",
       "      <th>Gender</th>\n",
       "      <th>Age</th>\n",
       "      <th>Driving_License</th>\n",
       "      <th>Previously_Insured</th>\n",
       "      <th>Vehicle_Damage</th>\n",
       "      <th>Response</th>\n",
       "      <th>Vehicle_Age_&lt; 1 Year</th>\n",
       "      <th>Vehicle_Age_&gt; 2 Years</th>\n",
       "      <th>Policy_Sales_Channel_Small</th>\n",
       "      <th>Policy_Sales_Channel_Large</th>\n",
       "    </tr>\n",
       "  </thead>\n",
       "  <tbody>\n",
       "    <tr>\n",
       "      <th>0</th>\n",
       "      <td>1</td>\n",
       "      <td>21</td>\n",
       "      <td>1</td>\n",
       "      <td>0</td>\n",
       "      <td>1</td>\n",
       "      <td>0</td>\n",
       "      <td>False</td>\n",
       "      <td>False</td>\n",
       "      <td>0</td>\n",
       "      <td>0</td>\n",
       "    </tr>\n",
       "    <tr>\n",
       "      <th>1</th>\n",
       "      <td>1</td>\n",
       "      <td>43</td>\n",
       "      <td>1</td>\n",
       "      <td>0</td>\n",
       "      <td>1</td>\n",
       "      <td>1</td>\n",
       "      <td>False</td>\n",
       "      <td>True</td>\n",
       "      <td>1</td>\n",
       "      <td>0</td>\n",
       "    </tr>\n",
       "    <tr>\n",
       "      <th>2</th>\n",
       "      <td>0</td>\n",
       "      <td>25</td>\n",
       "      <td>1</td>\n",
       "      <td>1</td>\n",
       "      <td>0</td>\n",
       "      <td>0</td>\n",
       "      <td>True</td>\n",
       "      <td>False</td>\n",
       "      <td>0</td>\n",
       "      <td>1</td>\n",
       "    </tr>\n",
       "    <tr>\n",
       "      <th>3</th>\n",
       "      <td>0</td>\n",
       "      <td>35</td>\n",
       "      <td>1</td>\n",
       "      <td>0</td>\n",
       "      <td>1</td>\n",
       "      <td>0</td>\n",
       "      <td>False</td>\n",
       "      <td>False</td>\n",
       "      <td>0</td>\n",
       "      <td>1</td>\n",
       "    </tr>\n",
       "    <tr>\n",
       "      <th>4</th>\n",
       "      <td>0</td>\n",
       "      <td>36</td>\n",
       "      <td>1</td>\n",
       "      <td>1</td>\n",
       "      <td>0</td>\n",
       "      <td>0</td>\n",
       "      <td>False</td>\n",
       "      <td>False</td>\n",
       "      <td>0</td>\n",
       "      <td>1</td>\n",
       "    </tr>\n",
       "  </tbody>\n",
       "</table>\n",
       "</div>"
      ],
      "text/plain": [
       "   Gender  Age  Driving_License  Previously_Insured  Vehicle_Damage  Response  \\\n",
       "0       1   21                1                   0               1         0   \n",
       "1       1   43                1                   0               1         1   \n",
       "2       0   25                1                   1               0         0   \n",
       "3       0   35                1                   0               1         0   \n",
       "4       0   36                1                   1               0         0   \n",
       "\n",
       "   Vehicle_Age_< 1 Year  Vehicle_Age_> 2 Years  Policy_Sales_Channel_Small  \\\n",
       "0                 False                  False                           0   \n",
       "1                 False                   True                           1   \n",
       "2                  True                  False                           0   \n",
       "3                 False                  False                           0   \n",
       "4                 False                  False                           0   \n",
       "\n",
       "   Policy_Sales_Channel_Large  \n",
       "0                           0  \n",
       "1                           0  \n",
       "2                           1  \n",
       "3                           1  \n",
       "4                           1  "
      ]
     },
     "execution_count": 22,
     "metadata": {},
     "output_type": "execute_result"
    }
   ],
   "source": [
    "filtered_data.head()"
   ]
  },
  {
   "cell_type": "code",
   "execution_count": 23,
   "id": "27abefac",
   "metadata": {},
   "outputs": [],
   "source": [
    "# experimental\n",
    "# process age into 3 groups (< 35, 35 - 55, > 55)"
   ]
  },
  {
   "cell_type": "code",
   "execution_count": 24,
   "id": "4983d710",
   "metadata": {},
   "outputs": [
    {
     "data": {
      "text/plain": [
       "<Axes: xlabel='Age', ylabel='Count'>"
      ]
     },
     "execution_count": 24,
     "metadata": {},
     "output_type": "execute_result"
    },
    {
     "data": {
      "image/png": "[encoded data removed]",
      "text/plain": [
       "<Figure size 640x480 with 1 Axes>"
      ]
     },
     "metadata": {},
     "output_type": "display_data"
    }
   ],
   "source": [
    "sns.histplot((filtered_data[filtered_data[\"Response\"] == 0][\"Age\"]))"
   ]
  },
  {
   "cell_type": "code",
   "execution_count": 25,
   "id": "2cc8bc16",
   "metadata": {},
   "outputs": [
    {
     "data": {
      "text/plain": [
       "<Axes: xlabel='Age', ylabel='Count'>"
      ]
     },
     "execution_count": 25,
     "metadata": {},
     "output_type": "execute_result"
    },
    {
     "data": {
      "image/png": "[encoded data removed]",
      "text/plain": [
       "<Figure size 640x480 with 1 Axes>"
      ]
     },
     "metadata": {},
     "output_type": "display_data"
    }
   ],
   "source": [
    "sns.histplot((filtered_data[filtered_data[\"Response\"] == 1][\"Age\"]))\n"
   ]
  },
  {
   "cell_type": "code",
   "execution_count": 26,
   "id": "53f5161e",
   "metadata": {},
   "outputs": [
    {
     "name": "stdout",
     "output_type": "stream",
     "text": [
      "New shape of training data:  (1230562, 10)\n"
     ]
    }
   ],
   "source": [
    "\n",
    "\n",
    "majority_class = filtered_data[filtered_data['Response'] == 0]\n",
    "minority_class = filtered_data[filtered_data['Response'] == 1]\n",
    "sample_size = len(minority_class)\n",
    "majority_sample = majority_class.sample(sample_size)\n",
    "X = pd.concat([majority_sample, minority_class], axis=0)\n",
    "X.columns = filtered_data.columns\n",
    "print(\"New shape of training data: \", X.shape)\n",
    "\n"
   ]
  },
  {
   "cell_type": "code",
   "execution_count": 27,
   "id": "19252497",
   "metadata": {},
   "outputs": [
    {
     "data": {
      "text/plain": [
       "<Axes: xlabel='Age', ylabel='Count'>"
      ]
     },
     "execution_count": 27,
     "metadata": {},
     "output_type": "execute_result"
    },
    {
     "data": {
      "image/png": "[encoded data removed]",
      "text/plain": [
       "<Figure size 640x480 with 1 Axes>"
      ]
     },
     "metadata": {},
     "output_type": "display_data"
    }
   ],
   "source": [
    "sns.histplot((X[X[\"Response\"] == 0][\"Age\"]))\n"
   ]
  },
  {
   "cell_type": "code",
   "execution_count": 28,
   "id": "5da9df3d",
   "metadata": {},
   "outputs": [
    {
     "data": {
      "text/plain": [
       "<Axes: xlabel='Age', ylabel='Count'>"
      ]
     },
     "execution_count": 28,
     "metadata": {},
     "output_type": "execute_result"
    },
    {
     "data": {
      "image/png": "[encoded data removed]",
      "text/plain": [
       "<Figure size 640x480 with 1 Axes>"
      ]
     },
     "metadata": {},
     "output_type": "display_data"
    }
   ],
   "source": [
    "sns.histplot((X[X[\"Response\"] == 1][\"Age\"]))\n"
   ]
  },
  {
   "cell_type": "code",
   "execution_count": 39,
   "id": "43cd9bc7",
   "metadata": {},
   "outputs": [],
   "source": [
    "from sklearn.linear_model import SGDClassifier\n",
    "from sklearn.model_selection import train_test_split\n",
    "from sklearn.preprocessing import StandardScaler\n",
    "from sklearn.metrics import f1_score, recall_score\n",
    "from sklearn.linear_model import LogisticRegression\n",
    "from sklearn.tree import DecisionTreeClassifier\n",
    "from sklearn.ensemble import RandomForestClassifier\n"
   ]
  },
  {
   "cell_type": "markdown",
   "id": "3dd8e4bd",
   "metadata": {},
   "source": [
    "### То, что я смог напедалить сам"
   ]
  },
  {
   "cell_type": "code",
   "execution_count": 37,
   "id": "356e6735",
   "metadata": {},
   "outputs": [],
   "source": [
    "X_train, X_test, y_train, y_test = train_test_split(X.drop(columns=\"Response\"), X[\"Response\"], test_size=0.33, random_state=42)\n",
    "# X_train, X_test, y_train, y_test = train_test_split(filtered_data.drop(columns=\"Response\"), filtered_data[\"Response\"], test_size=0.33, random_state=42)"
   ]
  },
  {
   "cell_type": "code",
   "execution_count": 37,
   "id": "71fc7f09",
   "metadata": {},
   "outputs": [
    {
     "data": {
      "text/plain": [
       "Response\n",
       "0    412324\n",
       "1    412152\n",
       "Name: count, dtype: int64"
      ]
     },
     "execution_count": 37,
     "metadata": {},
     "output_type": "execute_result"
    }
   ],
   "source": [
    "y_train.value_counts()"
   ]
  },
  {
   "cell_type": "code",
   "execution_count": 38,
   "id": "43e44145",
   "metadata": {},
   "outputs": [
    {
     "data": {
      "text/plain": [
       "Response\n",
       "1    203129\n",
       "0    202957\n",
       "Name: count, dtype: int64"
      ]
     },
     "execution_count": 38,
     "metadata": {},
     "output_type": "execute_result"
    }
   ],
   "source": [
    "y_test.value_counts()\n"
   ]
  },
  {
   "cell_type": "code",
   "execution_count": 39,
   "id": "41d3d730",
   "metadata": {},
   "outputs": [
    {
     "data": {
      "text/html": [
       "<style>#sk-container-id-1 {\n",
       "  /* Definition of color scheme common for light and dark mode */\n",
       "  --sklearn-color-text: #000;\n",
       "  --sklearn-color-text-muted: #666;\n",
       "  --sklearn-color-line: gray;\n",
       "  /* Definition of color scheme for unfitted estimators */\n",
       "  --sklearn-color-unfitted-level-0: #fff5e6;\n",
       "  --sklearn-color-unfitted-level-1: #f6e4d2;\n",
       "  --sklearn-color-unfitted-level-2: #ffe0b3;\n",
       "  --sklearn-color-unfitted-level-3: chocolate;\n",
       "  /* Definition of color scheme for fitted estimators */\n",
       "  --sklearn-color-fitted-level-0: #f0f8ff;\n",
       "  --sklearn-color-fitted-level-1: #d4ebff;\n",
       "  --sklearn-color-fitted-level-2: #b3dbfd;\n",
       "  --sklearn-color-fitted-level-3: cornflowerblue;\n",
       "\n",
       "  /* Specific color for light theme */\n",
       "  --sklearn-color-text-on-default-background: var(--sg-text-color, var(--theme-code-foreground, var(--jp-content-font-color1, black)));\n",
       "  --sklearn-color-background: var(--sg-background-color, var(--theme-background, var(--jp-layout-color0, white)));\n",
       "  --sklearn-color-border-box: var(--sg-text-color, var(--theme-code-foreground, var(--jp-content-font-color1, black)));\n",
       "  --sklearn-color-icon: #696969;\n",
       "\n",
       "  @media (prefers-color-scheme: dark) {\n",
       "    /* Redefinition of color scheme for dark theme */\n",
       "    --sklearn-color-text-on-default-background: var(--sg-text-color, var(--theme-code-foreground, var(--jp-content-font-color1, white)));\n",
       "    --sklearn-color-background: var(--sg-background-color, var(--theme-background, var(--jp-layout-color0, #111)));\n",
       "    --sklearn-color-border-box: var(--sg-text-color, var(--theme-code-foreground, var(--jp-content-font-color1, white)));\n",
       "    --sklearn-color-icon: #878787;\n",
       "  }\n",
       "}\n",
       "\n",
       "#sk-container-id-1 {\n",
       "  color: var(--sklearn-color-text);\n",
       "}\n",
       "\n",
       "#sk-container-id-1 pre {\n",
       "  padding: 0;\n",
       "}\n",
       "\n",
       "#sk-container-id-1 input.sk-hidden--visually {\n",
       "  border: 0;\n",
       "  clip: rect(1px 1px 1px 1px);\n",
       "  clip: rect(1px, 1px, 1px, 1px);\n",
       "  height: 1px;\n",
       "  margin: -1px;\n",
       "  overflow: hidden;\n",
       "  padding: 0;\n",
       "  position: absolute;\n",
       "  width: 1px;\n",
       "}\n",
       "\n",
       "#sk-container-id-1 div.sk-dashed-wrapped {\n",
       "  border: 1px dashed var(--sklearn-color-line);\n",
       "  margin: 0 0.4em 0.5em 0.4em;\n",
       "  box-sizing: border-box;\n",
       "  padding-bottom: 0.4em;\n",
       "  background-color: var(--sklearn-color-background);\n",
       "}\n",
       "\n",
       "#sk-container-id-1 div.sk-container {\n",
       "  /* jupyter's `normalize.less` sets `[hidden] { display: none; }`\n",
       "     but bootstrap.min.css set `[hidden] { display: none !important; }`\n",
       "     so we also need the `!important` here to be able to override the\n",
       "     default hidden behavior on the sphinx rendered scikit-learn.org.\n",
       "     See: https://github.com/scikit-learn/scikit-learn/issues/21755 */\n",
       "  display: inline-block !important;\n",
       "  position: relative;\n",
       "}\n",
       "\n",
       "#sk-container-id-1 div.sk-text-repr-fallback {\n",
       "  display: none;\n",
       "}\n",
       "\n",
       "div.sk-parallel-item,\n",
       "div.sk-serial,\n",
       "div.sk-item {\n",
       "  /* draw centered vertical line to link estimators */\n",
       "  background-image: linear-gradient(var(--sklearn-color-text-on-default-background), var(--sklearn-color-text-on-default-background));\n",
       "  background-size: 2px 100%;\n",
       "  background-repeat: no-repeat;\n",
       "  background-position: center center;\n",
       "}\n",
       "\n",
       "/* Parallel-specific style estimator block */\n",
       "\n",
       "#sk-container-id-1 div.sk-parallel-item::after {\n",
       "  content: \"\";\n",
       "  width: 100%;\n",
       "  border-bottom: 2px solid var(--sklearn-color-text-on-default-background);\n",
       "  flex-grow: 1;\n",
       "}\n",
       "\n",
       "#sk-container-id-1 div.sk-parallel {\n",
       "  display: flex;\n",
       "  align-items: stretch;\n",
       "  justify-content: center;\n",
       "  background-color: var(--sklearn-color-background);\n",
       "  position: relative;\n",
       "}\n",
       "\n",
       "#sk-container-id-1 div.sk-parallel-item {\n",
       "  display: flex;\n",
       "  flex-direction: column;\n",
       "}\n",
       "\n",
       "#sk-container-id-1 div.sk-parallel-item:first-child::after {\n",
       "  align-self: flex-end;\n",
       "  width: 50%;\n",
       "}\n",
       "\n",
       "#sk-container-id-1 div.sk-parallel-item:last-child::after {\n",
       "  align-self: flex-start;\n",
       "  width: 50%;\n",
       "}\n",
       "\n",
       "#sk-container-id-1 div.sk-parallel-item:only-child::after {\n",
       "  width: 0;\n",
       "}\n",
       "\n",
       "/* Serial-specific style estimator block */\n",
       "\n",
       "#sk-container-id-1 div.sk-serial {\n",
       "  display: flex;\n",
       "  flex-direction: column;\n",
       "  align-items: center;\n",
       "  background-color: var(--sklearn-color-background);\n",
       "  padding-right: 1em;\n",
       "  padding-left: 1em;\n",
       "}\n",
       "\n",
       "\n",
       "/* Toggleable style: style used for estimator/Pipeline/ColumnTransformer box that is\n",
       "clickable and can be expanded/collapsed.\n",
       "- Pipeline and ColumnTransformer use this feature and define the default style\n",
       "- Estimators will overwrite some part of the style using the `sk-estimator` class\n",
       "*/\n",
       "\n",
       "/* Pipeline and ColumnTransformer style (default) */\n",
       "\n",
       "#sk-container-id-1 div.sk-toggleable {\n",
       "  /* Default theme specific background. It is overwritten whether we have a\n",
       "  specific estimator or a Pipeline/ColumnTransformer */\n",
       "  background-color: var(--sklearn-color-background);\n",
       "}\n",
       "\n",
       "/* Toggleable label */\n",
       "#sk-container-id-1 label.sk-toggleable__label {\n",
       "  cursor: pointer;\n",
       "  display: flex;\n",
       "  width: 100%;\n",
       "  margin-bottom: 0;\n",
       "  padding: 0.5em;\n",
       "  box-sizing: border-box;\n",
       "  text-align: center;\n",
       "  align-items: start;\n",
       "  justify-content: space-between;\n",
       "  gap: 0.5em;\n",
       "}\n",
       "\n",
       "#sk-container-id-1 label.sk-toggleable__label .caption {\n",
       "  font-size: 0.6rem;\n",
       "  font-weight: lighter;\n",
       "  color: var(--sklearn-color-text-muted);\n",
       "}\n",
       "\n",
       "#sk-container-id-1 label.sk-toggleable__label-arrow:before {\n",
       "  /* Arrow on the left of the label */\n",
       "  content: \"▸\";\n",
       "  float: left;\n",
       "  margin-right: 0.25em;\n",
       "  color: var(--sklearn-color-icon);\n",
       "}\n",
       "\n",
       "#sk-container-id-1 label.sk-toggleable__label-arrow:hover:before {\n",
       "  color: var(--sklearn-color-text);\n",
       "}\n",
       "\n",
       "/* Toggleable content - dropdown */\n",
       "\n",
       "#sk-container-id-1 div.sk-toggleable__content {\n",
       "  max-height: 0;\n",
       "  max-width: 0;\n",
       "  overflow: hidden;\n",
       "  text-align: left;\n",
       "  /* unfitted */\n",
       "  background-color: var(--sklearn-color-unfitted-level-0);\n",
       "}\n",
       "\n",
       "#sk-container-id-1 div.sk-toggleable__content.fitted {\n",
       "  /* fitted */\n",
       "  background-color: var(--sklearn-color-fitted-level-0);\n",
       "}\n",
       "\n",
       "#sk-container-id-1 div.sk-toggleable__content pre {\n",
       "  margin: 0.2em;\n",
       "  border-radius: 0.25em;\n",
       "  color: var(--sklearn-color-text);\n",
       "  /* unfitted */\n",
       "  background-color: var(--sklearn-color-unfitted-level-0);\n",
       "}\n",
       "\n",
       "#sk-container-id-1 div.sk-toggleable__content.fitted pre {\n",
       "  /* unfitted */\n",
       "  background-color: var(--sklearn-color-fitted-level-0);\n",
       "}\n",
       "\n",
       "#sk-container-id-1 input.sk-toggleable__control:checked~div.sk-toggleable__content {\n",
       "  /* Expand drop-down */\n",
       "  max-height: 200px;\n",
       "  max-width: 100%;\n",
       "  overflow: auto;\n",
       "}\n",
       "\n",
       "#sk-container-id-1 input.sk-toggleable__control:checked~label.sk-toggleable__label-arrow:before {\n",
       "  content: \"▾\";\n",
       "}\n",
       "\n",
       "/* Pipeline/ColumnTransformer-specific style */\n",
       "\n",
       "#sk-container-id-1 div.sk-label input.sk-toggleable__control:checked~label.sk-toggleable__label {\n",
       "  color: var(--sklearn-color-text);\n",
       "  background-color: var(--sklearn-color-unfitted-level-2);\n",
       "}\n",
       "\n",
       "#sk-container-id-1 div.sk-label.fitted input.sk-toggleable__control:checked~label.sk-toggleable__label {\n",
       "  background-color: var(--sklearn-color-fitted-level-2);\n",
       "}\n",
       "\n",
       "/* Estimator-specific style */\n",
       "\n",
       "/* Colorize estimator box */\n",
       "#sk-container-id-1 div.sk-estimator input.sk-toggleable__control:checked~label.sk-toggleable__label {\n",
       "  /* unfitted */\n",
       "  background-color: var(--sklearn-color-unfitted-level-2);\n",
       "}\n",
       "\n",
       "#sk-container-id-1 div.sk-estimator.fitted input.sk-toggleable__control:checked~label.sk-toggleable__label {\n",
       "  /* fitted */\n",
       "  background-color: var(--sklearn-color-fitted-level-2);\n",
       "}\n",
       "\n",
       "#sk-container-id-1 div.sk-label label.sk-toggleable__label,\n",
       "#sk-container-id-1 div.sk-label label {\n",
       "  /* The background is the default theme color */\n",
       "  color: var(--sklearn-color-text-on-default-background);\n",
       "}\n",
       "\n",
       "/* On hover, darken the color of the background */\n",
       "#sk-container-id-1 div.sk-label:hover label.sk-toggleable__label {\n",
       "  color: var(--sklearn-color-text);\n",
       "  background-color: var(--sklearn-color-unfitted-level-2);\n",
       "}\n",
       "\n",
       "/* Label box, darken color on hover, fitted */\n",
       "#sk-container-id-1 div.sk-label.fitted:hover label.sk-toggleable__label.fitted {\n",
       "  color: var(--sklearn-color-text);\n",
       "  background-color: var(--sklearn-color-fitted-level-2);\n",
       "}\n",
       "\n",
       "/* Estimator label */\n",
       "\n",
       "#sk-container-id-1 div.sk-label label {\n",
       "  font-family: monospace;\n",
       "  font-weight: bold;\n",
       "  display: inline-block;\n",
       "  line-height: 1.2em;\n",
       "}\n",
       "\n",
       "#sk-container-id-1 div.sk-label-container {\n",
       "  text-align: center;\n",
       "}\n",
       "\n",
       "/* Estimator-specific */\n",
       "#sk-container-id-1 div.sk-estimator {\n",
       "  font-family: monospace;\n",
       "  border: 1px dotted var(--sklearn-color-border-box);\n",
       "  border-radius: 0.25em;\n",
       "  box-sizing: border-box;\n",
       "  margin-bottom: 0.5em;\n",
       "  /* unfitted */\n",
       "  background-color: var(--sklearn-color-unfitted-level-0);\n",
       "}\n",
       "\n",
       "#sk-container-id-1 div.sk-estimator.fitted {\n",
       "  /* fitted */\n",
       "  background-color: var(--sklearn-color-fitted-level-0);\n",
       "}\n",
       "\n",
       "/* on hover */\n",
       "#sk-container-id-1 div.sk-estimator:hover {\n",
       "  /* unfitted */\n",
       "  background-color: var(--sklearn-color-unfitted-level-2);\n",
       "}\n",
       "\n",
       "#sk-container-id-1 div.sk-estimator.fitted:hover {\n",
       "  /* fitted */\n",
       "  background-color: var(--sklearn-color-fitted-level-2);\n",
       "}\n",
       "\n",
       "/* Specification for estimator info (e.g. \"i\" and \"?\") */\n",
       "\n",
       "/* Common style for \"i\" and \"?\" */\n",
       "\n",
       ".sk-estimator-doc-link,\n",
       "a:link.sk-estimator-doc-link,\n",
       "a:visited.sk-estimator-doc-link {\n",
       "  float: right;\n",
       "  font-size: smaller;\n",
       "  line-height: 1em;\n",
       "  font-family: monospace;\n",
       "  background-color: var(--sklearn-color-background);\n",
       "  border-radius: 1em;\n",
       "  height: 1em;\n",
       "  width: 1em;\n",
       "  text-decoration: none !important;\n",
       "  margin-left: 0.5em;\n",
       "  text-align: center;\n",
       "  /* unfitted */\n",
       "  border: var(--sklearn-color-unfitted-level-1) 1pt solid;\n",
       "  color: var(--sklearn-color-unfitted-level-1);\n",
       "}\n",
       "\n",
       ".sk-estimator-doc-link.fitted,\n",
       "a:link.sk-estimator-doc-link.fitted,\n",
       "a:visited.sk-estimator-doc-link.fitted {\n",
       "  /* fitted */\n",
       "  border: var(--sklearn-color-fitted-level-1) 1pt solid;\n",
       "  color: var(--sklearn-color-fitted-level-1);\n",
       "}\n",
       "\n",
       "/* On hover */\n",
       "div.sk-estimator:hover .sk-estimator-doc-link:hover,\n",
       ".sk-estimator-doc-link:hover,\n",
       "div.sk-label-container:hover .sk-estimator-doc-link:hover,\n",
       ".sk-estimator-doc-link:hover {\n",
       "  /* unfitted */\n",
       "  background-color: var(--sklearn-color-unfitted-level-3);\n",
       "  color: var(--sklearn-color-background);\n",
       "  text-decoration: none;\n",
       "}\n",
       "\n",
       "div.sk-estimator.fitted:hover .sk-estimator-doc-link.fitted:hover,\n",
       ".sk-estimator-doc-link.fitted:hover,\n",
       "div.sk-label-container:hover .sk-estimator-doc-link.fitted:hover,\n",
       ".sk-estimator-doc-link.fitted:hover {\n",
       "  /* fitted */\n",
       "  background-color: var(--sklearn-color-fitted-level-3);\n",
       "  color: var(--sklearn-color-background);\n",
       "  text-decoration: none;\n",
       "}\n",
       "\n",
       "/* Span, style for the box shown on hovering the info icon */\n",
       ".sk-estimator-doc-link span {\n",
       "  display: none;\n",
       "  z-index: 9999;\n",
       "  position: relative;\n",
       "  font-weight: normal;\n",
       "  right: .2ex;\n",
       "  padding: .5ex;\n",
       "  margin: .5ex;\n",
       "  width: min-content;\n",
       "  min-width: 20ex;\n",
       "  max-width: 50ex;\n",
       "  color: var(--sklearn-color-text);\n",
       "  box-shadow: 2pt 2pt 4pt #999;\n",
       "  /* unfitted */\n",
       "  background: var(--sklearn-color-unfitted-level-0);\n",
       "  border: .5pt solid var(--sklearn-color-unfitted-level-3);\n",
       "}\n",
       "\n",
       ".sk-estimator-doc-link.fitted span {\n",
       "  /* fitted */\n",
       "  background: var(--sklearn-color-fitted-level-0);\n",
       "  border: var(--sklearn-color-fitted-level-3);\n",
       "}\n",
       "\n",
       ".sk-estimator-doc-link:hover span {\n",
       "  display: block;\n",
       "}\n",
       "\n",
       "/* \"?\"-specific style due to the `<a>` HTML tag */\n",
       "\n",
       "#sk-container-id-1 a.estimator_doc_link {\n",
       "  float: right;\n",
       "  font-size: 1rem;\n",
       "  line-height: 1em;\n",
       "  font-family: monospace;\n",
       "  background-color: var(--sklearn-color-background);\n",
       "  border-radius: 1rem;\n",
       "  height: 1rem;\n",
       "  width: 1rem;\n",
       "  text-decoration: none;\n",
       "  /* unfitted */\n",
       "  color: var(--sklearn-color-unfitted-level-1);\n",
       "  border: var(--sklearn-color-unfitted-level-1) 1pt solid;\n",
       "}\n",
       "\n",
       "#sk-container-id-1 a.estimator_doc_link.fitted {\n",
       "  /* fitted */\n",
       "  border: var(--sklearn-color-fitted-level-1) 1pt solid;\n",
       "  color: var(--sklearn-color-fitted-level-1);\n",
       "}\n",
       "\n",
       "/* On hover */\n",
       "#sk-container-id-1 a.estimator_doc_link:hover {\n",
       "  /* unfitted */\n",
       "  background-color: var(--sklearn-color-unfitted-level-3);\n",
       "  color: var(--sklearn-color-background);\n",
       "  text-decoration: none;\n",
       "}\n",
       "\n",
       "#sk-container-id-1 a.estimator_doc_link.fitted:hover {\n",
       "  /* fitted */\n",
       "  background-color: var(--sklearn-color-fitted-level-3);\n",
       "}\n",
       "</style><div id=\"sk-container-id-1\" class=\"sk-top-container\"><div class=\"sk-text-repr-fallback\"><pre>SGDClassifier(loss=&#x27;log_loss&#x27;)</pre><b>In a Jupyter environment, please rerun this cell to show the HTML representation or trust the notebook. <br />On GitHub, the HTML representation is unable to render, please try loading this page with nbviewer.org.</b></div><div class=\"sk-container\" hidden><div class=\"sk-item\"><div class=\"sk-estimator fitted sk-toggleable\"><input class=\"sk-toggleable__control sk-hidden--visually\" id=\"sk-estimator-id-1\" type=\"checkbox\" checked><label for=\"sk-estimator-id-1\" class=\"sk-toggleable__label fitted sk-toggleable__label-arrow\"><div><div>SGDClassifier</div></div><div><a class=\"sk-estimator-doc-link fitted\" rel=\"noreferrer\" target=\"_blank\" href=\"https://scikit-learn.org/1.6/modules/generated/sklearn.linear_model.SGDClassifier.html\">?<span>Documentation for SGDClassifier</span></a><span class=\"sk-estimator-doc-link fitted\">i<span>Fitted</span></span></div></label><div class=\"sk-toggleable__content fitted\"><pre>SGDClassifier(loss=&#x27;log_loss&#x27;)</pre></div> </div></div></div></div>"
      ],
      "text/plain": [
       "SGDClassifier(loss='log_loss')"
      ]
     },
     "execution_count": 39,
     "metadata": {},
     "output_type": "execute_result"
    }
   ],
   "source": [
    "# sc = StandardScaler()\n",
    "# X_train = sc.fit_transform(X_train)\n",
    "sgd = SGDClassifier(loss=\"log_loss\")\n",
    "sgd.fit(X_train, y_train)"
   ]
  },
  {
   "cell_type": "code",
   "execution_count": 40,
   "id": "bb098088",
   "metadata": {},
   "outputs": [
    {
     "name": "stdout",
     "output_type": "stream",
     "text": [
      "f1 score =  0.7783233371197092\n",
      "recall =  0.786769305024059\n"
     ]
    }
   ],
   "source": [
    "pred = sgd.predict(X_test)\n",
    "print(\"f1 score = \", f1_score(y_test, pred, average='weighted'))\n",
    "print(\"recall = \", recall_score(y_test, pred, average='weighted'))"
   ]
  },
  {
   "cell_type": "code",
   "execution_count": 41,
   "id": "57c4bfea",
   "metadata": {},
   "outputs": [
    {
     "name": "stderr",
     "output_type": "stream",
     "text": [
      "/home/dr_drew/Projects/ML/lab_1/binary_classification_with_api/server/server_env/lib/python3.12/site-packages/sklearn/linear_model/_logistic.py:465: ConvergenceWarning: lbfgs failed to converge (status=1):\n",
      "STOP: TOTAL NO. OF ITERATIONS REACHED LIMIT.\n",
      "\n",
      "Increase the number of iterations (max_iter) or scale the data as shown in:\n",
      "    https://scikit-learn.org/stable/modules/preprocessing.html\n",
      "Please also refer to the documentation for alternative solver options:\n",
      "    https://scikit-learn.org/stable/modules/linear_model.html#logistic-regression\n",
      "  n_iter_i = _check_optimize_result(\n"
     ]
    },
    {
     "data": {
      "text/html": [
       "<style>#sk-container-id-2 {\n",
       "  /* Definition of color scheme common for light and dark mode */\n",
       "  --sklearn-color-text: #000;\n",
       "  --sklearn-color-text-muted: #666;\n",
       "  --sklearn-color-line: gray;\n",
       "  /* Definition of color scheme for unfitted estimators */\n",
       "  --sklearn-color-unfitted-level-0: #fff5e6;\n",
       "  --sklearn-color-unfitted-level-1: #f6e4d2;\n",
       "  --sklearn-color-unfitted-level-2: #ffe0b3;\n",
       "  --sklearn-color-unfitted-level-3: chocolate;\n",
       "  /* Definition of color scheme for fitted estimators */\n",
       "  --sklearn-color-fitted-level-0: #f0f8ff;\n",
       "  --sklearn-color-fitted-level-1: #d4ebff;\n",
       "  --sklearn-color-fitted-level-2: #b3dbfd;\n",
       "  --sklearn-color-fitted-level-3: cornflowerblue;\n",
       "\n",
       "  /* Specific color for light theme */\n",
       "  --sklearn-color-text-on-default-background: var(--sg-text-color, var(--theme-code-foreground, var(--jp-content-font-color1, black)));\n",
       "  --sklearn-color-background: var(--sg-background-color, var(--theme-background, var(--jp-layout-color0, white)));\n",
       "  --sklearn-color-border-box: var(--sg-text-color, var(--theme-code-foreground, var(--jp-content-font-color1, black)));\n",
       "  --sklearn-color-icon: #696969;\n",
       "\n",
       "  @media (prefers-color-scheme: dark) {\n",
       "    /* Redefinition of color scheme for dark theme */\n",
       "    --sklearn-color-text-on-default-background: var(--sg-text-color, var(--theme-code-foreground, var(--jp-content-font-color1, white)));\n",
       "    --sklearn-color-background: var(--sg-background-color, var(--theme-background, var(--jp-layout-color0, #111)));\n",
       "    --sklearn-color-border-box: var(--sg-text-color, var(--theme-code-foreground, var(--jp-content-font-color1, white)));\n",
       "    --sklearn-color-icon: #878787;\n",
       "  }\n",
       "}\n",
       "\n",
       "#sk-container-id-2 {\n",
       "  color: var(--sklearn-color-text);\n",
       "}\n",
       "\n",
       "#sk-container-id-2 pre {\n",
       "  padding: 0;\n",
       "}\n",
       "\n",
       "#sk-container-id-2 input.sk-hidden--visually {\n",
       "  border: 0;\n",
       "  clip: rect(1px 1px 1px 1px);\n",
       "  clip: rect(1px, 1px, 1px, 1px);\n",
       "  height: 1px;\n",
       "  margin: -1px;\n",
       "  overflow: hidden;\n",
       "  padding: 0;\n",
       "  position: absolute;\n",
       "  width: 1px;\n",
       "}\n",
       "\n",
       "#sk-container-id-2 div.sk-dashed-wrapped {\n",
       "  border: 1px dashed var(--sklearn-color-line);\n",
       "  margin: 0 0.4em 0.5em 0.4em;\n",
       "  box-sizing: border-box;\n",
       "  padding-bottom: 0.4em;\n",
       "  background-color: var(--sklearn-color-background);\n",
       "}\n",
       "\n",
       "#sk-container-id-2 div.sk-container {\n",
       "  /* jupyter's `normalize.less` sets `[hidden] { display: none; }`\n",
       "     but bootstrap.min.css set `[hidden] { display: none !important; }`\n",
       "     so we also need the `!important` here to be able to override the\n",
       "     default hidden behavior on the sphinx rendered scikit-learn.org.\n",
       "     See: https://github.com/scikit-learn/scikit-learn/issues/21755 */\n",
       "  display: inline-block !important;\n",
       "  position: relative;\n",
       "}\n",
       "\n",
       "#sk-container-id-2 div.sk-text-repr-fallback {\n",
       "  display: none;\n",
       "}\n",
       "\n",
       "div.sk-parallel-item,\n",
       "div.sk-serial,\n",
       "div.sk-item {\n",
       "  /* draw centered vertical line to link estimators */\n",
       "  background-image: linear-gradient(var(--sklearn-color-text-on-default-background), var(--sklearn-color-text-on-default-background));\n",
       "  background-size: 2px 100%;\n",
       "  background-repeat: no-repeat;\n",
       "  background-position: center center;\n",
       "}\n",
       "\n",
       "/* Parallel-specific style estimator block */\n",
       "\n",
       "#sk-container-id-2 div.sk-parallel-item::after {\n",
       "  content: \"\";\n",
       "  width: 100%;\n",
       "  border-bottom: 2px solid var(--sklearn-color-text-on-default-background);\n",
       "  flex-grow: 1;\n",
       "}\n",
       "\n",
       "#sk-container-id-2 div.sk-parallel {\n",
       "  display: flex;\n",
       "  align-items: stretch;\n",
       "  justify-content: center;\n",
       "  background-color: var(--sklearn-color-background);\n",
       "  position: relative;\n",
       "}\n",
       "\n",
       "#sk-container-id-2 div.sk-parallel-item {\n",
       "  display: flex;\n",
       "  flex-direction: column;\n",
       "}\n",
       "\n",
       "#sk-container-id-2 div.sk-parallel-item:first-child::after {\n",
       "  align-self: flex-end;\n",
       "  width: 50%;\n",
       "}\n",
       "\n",
       "#sk-container-id-2 div.sk-parallel-item:last-child::after {\n",
       "  align-self: flex-start;\n",
       "  width: 50%;\n",
       "}\n",
       "\n",
       "#sk-container-id-2 div.sk-parallel-item:only-child::after {\n",
       "  width: 0;\n",
       "}\n",
       "\n",
       "/* Serial-specific style estimator block */\n",
       "\n",
       "#sk-container-id-2 div.sk-serial {\n",
       "  display: flex;\n",
       "  flex-direction: column;\n",
       "  align-items: center;\n",
       "  background-color: var(--sklearn-color-background);\n",
       "  padding-right: 1em;\n",
       "  padding-left: 1em;\n",
       "}\n",
       "\n",
       "\n",
       "/* Toggleable style: style used for estimator/Pipeline/ColumnTransformer box that is\n",
       "clickable and can be expanded/collapsed.\n",
       "- Pipeline and ColumnTransformer use this feature and define the default style\n",
       "- Estimators will overwrite some part of the style using the `sk-estimator` class\n",
       "*/\n",
       "\n",
       "/* Pipeline and ColumnTransformer style (default) */\n",
       "\n",
       "#sk-container-id-2 div.sk-toggleable {\n",
       "  /* Default theme specific background. It is overwritten whether we have a\n",
       "  specific estimator or a Pipeline/ColumnTransformer */\n",
       "  background-color: var(--sklearn-color-background);\n",
       "}\n",
       "\n",
       "/* Toggleable label */\n",
       "#sk-container-id-2 label.sk-toggleable__label {\n",
       "  cursor: pointer;\n",
       "  display: flex;\n",
       "  width: 100%;\n",
       "  margin-bottom: 0;\n",
       "  padding: 0.5em;\n",
       "  box-sizing: border-box;\n",
       "  text-align: center;\n",
       "  align-items: start;\n",
       "  justify-content: space-between;\n",
       "  gap: 0.5em;\n",
       "}\n",
       "\n",
       "#sk-container-id-2 label.sk-toggleable__label .caption {\n",
       "  font-size: 0.6rem;\n",
       "  font-weight: lighter;\n",
       "  color: var(--sklearn-color-text-muted);\n",
       "}\n",
       "\n",
       "#sk-container-id-2 label.sk-toggleable__label-arrow:before {\n",
       "  /* Arrow on the left of the label */\n",
       "  content: \"▸\";\n",
       "  float: left;\n",
       "  margin-right: 0.25em;\n",
       "  color: var(--sklearn-color-icon);\n",
       "}\n",
       "\n",
       "#sk-container-id-2 label.sk-toggleable__label-arrow:hover:before {\n",
       "  color: var(--sklearn-color-text);\n",
       "}\n",
       "\n",
       "/* Toggleable content - dropdown */\n",
       "\n",
       "#sk-container-id-2 div.sk-toggleable__content {\n",
       "  max-height: 0;\n",
       "  max-width: 0;\n",
       "  overflow: hidden;\n",
       "  text-align: left;\n",
       "  /* unfitted */\n",
       "  background-color: var(--sklearn-color-unfitted-level-0);\n",
       "}\n",
       "\n",
       "#sk-container-id-2 div.sk-toggleable__content.fitted {\n",
       "  /* fitted */\n",
       "  background-color: var(--sklearn-color-fitted-level-0);\n",
       "}\n",
       "\n",
       "#sk-container-id-2 div.sk-toggleable__content pre {\n",
       "  margin: 0.2em;\n",
       "  border-radius: 0.25em;\n",
       "  color: var(--sklearn-color-text);\n",
       "  /* unfitted */\n",
       "  background-color: var(--sklearn-color-unfitted-level-0);\n",
       "}\n",
       "\n",
       "#sk-container-id-2 div.sk-toggleable__content.fitted pre {\n",
       "  /* unfitted */\n",
       "  background-color: var(--sklearn-color-fitted-level-0);\n",
       "}\n",
       "\n",
       "#sk-container-id-2 input.sk-toggleable__control:checked~div.sk-toggleable__content {\n",
       "  /* Expand drop-down */\n",
       "  max-height: 200px;\n",
       "  max-width: 100%;\n",
       "  overflow: auto;\n",
       "}\n",
       "\n",
       "#sk-container-id-2 input.sk-toggleable__control:checked~label.sk-toggleable__label-arrow:before {\n",
       "  content: \"▾\";\n",
       "}\n",
       "\n",
       "/* Pipeline/ColumnTransformer-specific style */\n",
       "\n",
       "#sk-container-id-2 div.sk-label input.sk-toggleable__control:checked~label.sk-toggleable__label {\n",
       "  color: var(--sklearn-color-text);\n",
       "  background-color: var(--sklearn-color-unfitted-level-2);\n",
       "}\n",
       "\n",
       "#sk-container-id-2 div.sk-label.fitted input.sk-toggleable__control:checked~label.sk-toggleable__label {\n",
       "  background-color: var(--sklearn-color-fitted-level-2);\n",
       "}\n",
       "\n",
       "/* Estimator-specific style */\n",
       "\n",
       "/* Colorize estimator box */\n",
       "#sk-container-id-2 div.sk-estimator input.sk-toggleable__control:checked~label.sk-toggleable__label {\n",
       "  /* unfitted */\n",
       "  background-color: var(--sklearn-color-unfitted-level-2);\n",
       "}\n",
       "\n",
       "#sk-container-id-2 div.sk-estimator.fitted input.sk-toggleable__control:checked~label.sk-toggleable__label {\n",
       "  /* fitted */\n",
       "  background-color: var(--sklearn-color-fitted-level-2);\n",
       "}\n",
       "\n",
       "#sk-container-id-2 div.sk-label label.sk-toggleable__label,\n",
       "#sk-container-id-2 div.sk-label label {\n",
       "  /* The background is the default theme color */\n",
       "  color: var(--sklearn-color-text-on-default-background);\n",
       "}\n",
       "\n",
       "/* On hover, darken the color of the background */\n",
       "#sk-container-id-2 div.sk-label:hover label.sk-toggleable__label {\n",
       "  color: var(--sklearn-color-text);\n",
       "  background-color: var(--sklearn-color-unfitted-level-2);\n",
       "}\n",
       "\n",
       "/* Label box, darken color on hover, fitted */\n",
       "#sk-container-id-2 div.sk-label.fitted:hover label.sk-toggleable__label.fitted {\n",
       "  color: var(--sklearn-color-text);\n",
       "  background-color: var(--sklearn-color-fitted-level-2);\n",
       "}\n",
       "\n",
       "/* Estimator label */\n",
       "\n",
       "#sk-container-id-2 div.sk-label label {\n",
       "  font-family: monospace;\n",
       "  font-weight: bold;\n",
       "  display: inline-block;\n",
       "  line-height: 1.2em;\n",
       "}\n",
       "\n",
       "#sk-container-id-2 div.sk-label-container {\n",
       "  text-align: center;\n",
       "}\n",
       "\n",
       "/* Estimator-specific */\n",
       "#sk-container-id-2 div.sk-estimator {\n",
       "  font-family: monospace;\n",
       "  border: 1px dotted var(--sklearn-color-border-box);\n",
       "  border-radius: 0.25em;\n",
       "  box-sizing: border-box;\n",
       "  margin-bottom: 0.5em;\n",
       "  /* unfitted */\n",
       "  background-color: var(--sklearn-color-unfitted-level-0);\n",
       "}\n",
       "\n",
       "#sk-container-id-2 div.sk-estimator.fitted {\n",
       "  /* fitted */\n",
       "  background-color: var(--sklearn-color-fitted-level-0);\n",
       "}\n",
       "\n",
       "/* on hover */\n",
       "#sk-container-id-2 div.sk-estimator:hover {\n",
       "  /* unfitted */\n",
       "  background-color: var(--sklearn-color-unfitted-level-2);\n",
       "}\n",
       "\n",
       "#sk-container-id-2 div.sk-estimator.fitted:hover {\n",
       "  /* fitted */\n",
       "  background-color: var(--sklearn-color-fitted-level-2);\n",
       "}\n",
       "\n",
       "/* Specification for estimator info (e.g. \"i\" and \"?\") */\n",
       "\n",
       "/* Common style for \"i\" and \"?\" */\n",
       "\n",
       ".sk-estimator-doc-link,\n",
       "a:link.sk-estimator-doc-link,\n",
       "a:visited.sk-estimator-doc-link {\n",
       "  float: right;\n",
       "  font-size: smaller;\n",
       "  line-height: 1em;\n",
       "  font-family: monospace;\n",
       "  background-color: var(--sklearn-color-background);\n",
       "  border-radius: 1em;\n",
       "  height: 1em;\n",
       "  width: 1em;\n",
       "  text-decoration: none !important;\n",
       "  margin-left: 0.5em;\n",
       "  text-align: center;\n",
       "  /* unfitted */\n",
       "  border: var(--sklearn-color-unfitted-level-1) 1pt solid;\n",
       "  color: var(--sklearn-color-unfitted-level-1);\n",
       "}\n",
       "\n",
       ".sk-estimator-doc-link.fitted,\n",
       "a:link.sk-estimator-doc-link.fitted,\n",
       "a:visited.sk-estimator-doc-link.fitted {\n",
       "  /* fitted */\n",
       "  border: var(--sklearn-color-fitted-level-1) 1pt solid;\n",
       "  color: var(--sklearn-color-fitted-level-1);\n",
       "}\n",
       "\n",
       "/* On hover */\n",
       "div.sk-estimator:hover .sk-estimator-doc-link:hover,\n",
       ".sk-estimator-doc-link:hover,\n",
       "div.sk-label-container:hover .sk-estimator-doc-link:hover,\n",
       ".sk-estimator-doc-link:hover {\n",
       "  /* unfitted */\n",
       "  background-color: var(--sklearn-color-unfitted-level-3);\n",
       "  color: var(--sklearn-color-background);\n",
       "  text-decoration: none;\n",
       "}\n",
       "\n",
       "div.sk-estimator.fitted:hover .sk-estimator-doc-link.fitted:hover,\n",
       ".sk-estimator-doc-link.fitted:hover,\n",
       "div.sk-label-container:hover .sk-estimator-doc-link.fitted:hover,\n",
       ".sk-estimator-doc-link.fitted:hover {\n",
       "  /* fitted */\n",
       "  background-color: var(--sklearn-color-fitted-level-3);\n",
       "  color: var(--sklearn-color-background);\n",
       "  text-decoration: none;\n",
       "}\n",
       "\n",
       "/* Span, style for the box shown on hovering the info icon */\n",
       ".sk-estimator-doc-link span {\n",
       "  display: none;\n",
       "  z-index: 9999;\n",
       "  position: relative;\n",
       "  font-weight: normal;\n",
       "  right: .2ex;\n",
       "  padding: .5ex;\n",
       "  margin: .5ex;\n",
       "  width: min-content;\n",
       "  min-width: 20ex;\n",
       "  max-width: 50ex;\n",
       "  color: var(--sklearn-color-text);\n",
       "  box-shadow: 2pt 2pt 4pt #999;\n",
       "  /* unfitted */\n",
       "  background: var(--sklearn-color-unfitted-level-0);\n",
       "  border: .5pt solid var(--sklearn-color-unfitted-level-3);\n",
       "}\n",
       "\n",
       ".sk-estimator-doc-link.fitted span {\n",
       "  /* fitted */\n",
       "  background: var(--sklearn-color-fitted-level-0);\n",
       "  border: var(--sklearn-color-fitted-level-3);\n",
       "}\n",
       "\n",
       ".sk-estimator-doc-link:hover span {\n",
       "  display: block;\n",
       "}\n",
       "\n",
       "/* \"?\"-specific style due to the `<a>` HTML tag */\n",
       "\n",
       "#sk-container-id-2 a.estimator_doc_link {\n",
       "  float: right;\n",
       "  font-size: 1rem;\n",
       "  line-height: 1em;\n",
       "  font-family: monospace;\n",
       "  background-color: var(--sklearn-color-background);\n",
       "  border-radius: 1rem;\n",
       "  height: 1rem;\n",
       "  width: 1rem;\n",
       "  text-decoration: none;\n",
       "  /* unfitted */\n",
       "  color: var(--sklearn-color-unfitted-level-1);\n",
       "  border: var(--sklearn-color-unfitted-level-1) 1pt solid;\n",
       "}\n",
       "\n",
       "#sk-container-id-2 a.estimator_doc_link.fitted {\n",
       "  /* fitted */\n",
       "  border: var(--sklearn-color-fitted-level-1) 1pt solid;\n",
       "  color: var(--sklearn-color-fitted-level-1);\n",
       "}\n",
       "\n",
       "/* On hover */\n",
       "#sk-container-id-2 a.estimator_doc_link:hover {\n",
       "  /* unfitted */\n",
       "  background-color: var(--sklearn-color-unfitted-level-3);\n",
       "  color: var(--sklearn-color-background);\n",
       "  text-decoration: none;\n",
       "}\n",
       "\n",
       "#sk-container-id-2 a.estimator_doc_link.fitted:hover {\n",
       "  /* fitted */\n",
       "  background-color: var(--sklearn-color-fitted-level-3);\n",
       "}\n",
       "</style><div id=\"sk-container-id-2\" class=\"sk-top-container\"><div class=\"sk-text-repr-fallback\"><pre>LogisticRegression(class_weight=&#x27;balanced&#x27;)</pre><b>In a Jupyter environment, please rerun this cell to show the HTML representation or trust the notebook. <br />On GitHub, the HTML representation is unable to render, please try loading this page with nbviewer.org.</b></div><div class=\"sk-container\" hidden><div class=\"sk-item\"><div class=\"sk-estimator fitted sk-toggleable\"><input class=\"sk-toggleable__control sk-hidden--visually\" id=\"sk-estimator-id-2\" type=\"checkbox\" checked><label for=\"sk-estimator-id-2\" class=\"sk-toggleable__label fitted sk-toggleable__label-arrow\"><div><div>LogisticRegression</div></div><div><a class=\"sk-estimator-doc-link fitted\" rel=\"noreferrer\" target=\"_blank\" href=\"https://scikit-learn.org/1.6/modules/generated/sklearn.linear_model.LogisticRegression.html\">?<span>Documentation for LogisticRegression</span></a><span class=\"sk-estimator-doc-link fitted\">i<span>Fitted</span></span></div></label><div class=\"sk-toggleable__content fitted\"><pre>LogisticRegression(class_weight=&#x27;balanced&#x27;)</pre></div> </div></div></div></div>"
      ],
      "text/plain": [
       "LogisticRegression(class_weight='balanced')"
      ]
     },
     "execution_count": 41,
     "metadata": {},
     "output_type": "execute_result"
    }
   ],
   "source": [
    "lr = LogisticRegression(class_weight='balanced')\n",
    "lr.fit(X_train, y_train)"
   ]
  },
  {
   "cell_type": "code",
   "execution_count": 42,
   "id": "4f80238d",
   "metadata": {},
   "outputs": [
    {
     "name": "stdout",
     "output_type": "stream",
     "text": [
      "f1 score =  0.776525728106022\n",
      "recall =  0.7844225114877145\n"
     ]
    }
   ],
   "source": [
    "pred = lr.predict(X_test)\n",
    "print(\"f1 score = \", f1_score(y_test, pred, average='weighted'))\n",
    "print(\"recall = \", recall_score(y_test, pred, average='weighted'))"
   ]
  },
  {
   "cell_type": "code",
   "execution_count": 43,
   "id": "6927940b",
   "metadata": {},
   "outputs": [
    {
     "name": "stdout",
     "output_type": "stream",
     "text": [
      "f1 score =  0.7759589486256057\n",
      "recall =  0.7837773279551622\n"
     ]
    }
   ],
   "source": [
    "sc = StandardScaler()\n",
    "lr = LogisticRegression(class_weight='balanced')\n",
    "lr.fit(sc.fit_transform(X_train), y_train)\n",
    "pred = lr.predict(sc.transform(X_test))\n",
    "print(\"f1 score = \", f1_score(y_test, pred, average='weighted'))\n",
    "print(\"recall = \", recall_score(y_test, pred, average='weighted'))"
   ]
  },
  {
   "cell_type": "code",
   "execution_count": 44,
   "id": "b0c9f751",
   "metadata": {},
   "outputs": [
    {
     "name": "stdout",
     "output_type": "stream",
     "text": [
      "f1 score =  0.7961223261193093\n",
      "recall =  0.7997000635333402\n"
     ]
    }
   ],
   "source": [
    "dtc = DecisionTreeClassifier(class_weight='balanced')\n",
    "dtc.fit(X_train, y_train)\n",
    "pred = dtc.predict(X_test)\n",
    "print(\"f1 score = \", f1_score(y_test, pred, average='weighted'))\n",
    "print(\"recall = \", recall_score(y_test, pred, average='weighted'))"
   ]
  },
  {
   "cell_type": "code",
   "execution_count": 47,
   "id": "6a56f69f",
   "metadata": {},
   "outputs": [
    {
     "name": "stdout",
     "output_type": "stream",
     "text": [
      "f1 score =  0.8231626319393867\n",
      "recall =  0.9319841086206302\n"
     ]
    }
   ],
   "source": [
    "print(\"f1 score = \", f1_score(y_test, pred))\n",
    "print(\"recall = \", recall_score(y_test, pred))"
   ]
  },
  {
   "cell_type": "code",
   "execution_count": 31,
   "id": "2b33f784",
   "metadata": {},
   "outputs": [
    {
     "name": "stdout",
     "output_type": "stream",
     "text": [
      "f1 score =  0.7969078533908943\n",
      "recall =  0.8004092729126343\n"
     ]
    }
   ],
   "source": [
    "dtc = DecisionTreeClassifier(class_weight='balanced', criterion='log_loss')\n",
    "dtc.fit(X_train, y_train)\n",
    "pred = dtc.predict(X_test)\n",
    "print(\"f1 score = \", f1_score(y_test, pred, average='weighted'))\n",
    "print(\"recall = \", recall_score(y_test, pred, average='weighted'))"
   ]
  },
  {
   "cell_type": "code",
   "execution_count": 43,
   "id": "141a8bed",
   "metadata": {},
   "outputs": [
    {
     "name": "stdout",
     "output_type": "stream",
     "text": [
      "f1 score =  0.7969584940561791\n",
      "recall =  0.8004363607708712\n"
     ]
    }
   ],
   "source": [
    "rfc = RandomForestClassifier(class_weight='balanced', criterion = \"entropy\", n_estimators=1000)\n",
    "rfc.fit(X_train, y_train)\n",
    "pred = rfc.predict(X_test)\n",
    "print(\"f1 score = \", f1_score(y_test, pred, average='weighted'))\n",
    "print(\"recall = \", recall_score(y_test, pred, average='weighted'))"
   ]
  },
  {
   "cell_type": "code",
   "execution_count": null,
   "id": "ec7f3504",
   "metadata": {},
   "outputs": [],
   "source": []
  },
  {
   "cell_type": "markdown",
   "id": "66368f6e",
   "metadata": {},
   "source": [
    "### Чекпоинт"
   ]
  },
  {
   "cell_type": "code",
   "execution_count": 66,
   "id": "230bcaf8",
   "metadata": {},
   "outputs": [],
   "source": [
    "# X_train, X_test, y_train, y_test = train_test_split(filtered_data.drop(columns=\"Response\"), filtered_data[\"Response\"], test_size=0.33, random_state=42)\n",
    "X_train, X_test, y_train, y_test = train_test_split(X.drop(columns=\"Response\"), X[\"Response\"], test_size=0.33, random_state=42)\n"
   ]
  },
  {
   "cell_type": "code",
   "execution_count": 67,
   "id": "b6e6af8b",
   "metadata": {},
   "outputs": [],
   "source": [
    "from xgboost import XGBClassifier"
   ]
  },
  {
   "cell_type": "code",
   "execution_count": 68,
   "id": "f4edd815",
   "metadata": {},
   "outputs": [
    {
     "data": {
      "text/plain": [
       "Index(['Gender', 'Age', 'Previously_Insured', 'Vehicle_Damage',\n",
       "       'Vehicle_Age_Small', 'Vehicle_Age_Big', 'Policy_Sales_Channel_Small',\n",
       "       'Policy_Sales_Channel_Large'],\n",
       "      dtype='object')"
      ]
     },
     "execution_count": 68,
     "metadata": {},
     "output_type": "execute_result"
    }
   ],
   "source": [
    "X_train.columns = ['Gender', 'Age', 'Previously_Insured', 'Vehicle_Damage',\n",
    "       'Vehicle_Age_Small', 'Vehicle_Age_Big',\n",
    "       'Policy_Sales_Channel_Small', 'Policy_Sales_Channel_Large']\n",
    "X_train.columns"
   ]
  },
  {
   "cell_type": "code",
   "execution_count": 72,
   "id": "bcdb7ba4",
   "metadata": {},
   "outputs": [
    {
     "name": "stdout",
     "output_type": "stream",
     "text": [
      "[0]\tvalidation_0-auc:0.85369\n",
      "[50]\tvalidation_0-auc:0.85369\n",
      "[100]\tvalidation_0-auc:0.85367\n",
      "[150]\tvalidation_0-auc:0.85363\n",
      "[200]\tvalidation_0-auc:0.85361\n",
      "[250]\tvalidation_0-auc:0.85360\n",
      "[300]\tvalidation_0-auc:0.85358\n",
      "[350]\tvalidation_0-auc:0.85357\n",
      "[400]\tvalidation_0-auc:0.85356\n",
      "[450]\tvalidation_0-auc:0.85355\n",
      "[500]\tvalidation_0-auc:0.85355\n",
      "[550]\tvalidation_0-auc:0.85354\n",
      "[600]\tvalidation_0-auc:0.85353\n",
      "[650]\tvalidation_0-auc:0.85353\n",
      "[700]\tvalidation_0-auc:0.85353\n",
      "[750]\tvalidation_0-auc:0.85352\n",
      "[800]\tvalidation_0-auc:0.85352\n",
      "[850]\tvalidation_0-auc:0.85352\n",
      "[900]\tvalidation_0-auc:0.85352\n",
      "[950]\tvalidation_0-auc:0.85352\n",
      "[1000]\tvalidation_0-auc:0.85351\n",
      "[1050]\tvalidation_0-auc:0.85351\n",
      "[1100]\tvalidation_0-auc:0.85351\n",
      "[1150]\tvalidation_0-auc:0.85351\n",
      "[1200]\tvalidation_0-auc:0.85351\n",
      "[1250]\tvalidation_0-auc:0.85351\n",
      "[1300]\tvalidation_0-auc:0.85351\n",
      "[1350]\tvalidation_0-auc:0.85350\n",
      "[1400]\tvalidation_0-auc:0.85350\n",
      "[1450]\tvalidation_0-auc:0.85350\n",
      "[1500]\tvalidation_0-auc:0.85350\n",
      "[1550]\tvalidation_0-auc:0.85350\n",
      "[1600]\tvalidation_0-auc:0.85350\n",
      "[1650]\tvalidation_0-auc:0.85350\n",
      "[1700]\tvalidation_0-auc:0.85350\n",
      "[1750]\tvalidation_0-auc:0.85350\n",
      "[1800]\tvalidation_0-auc:0.85349\n",
      "[1850]\tvalidation_0-auc:0.85349\n",
      "[1900]\tvalidation_0-auc:0.85349\n",
      "[1950]\tvalidation_0-auc:0.85349\n",
      "[2000]\tvalidation_0-auc:0.85349\n",
      "[2050]\tvalidation_0-auc:0.85349\n",
      "[2100]\tvalidation_0-auc:0.85349\n",
      "[2150]\tvalidation_0-auc:0.85349\n",
      "[2200]\tvalidation_0-auc:0.85348\n",
      "[2250]\tvalidation_0-auc:0.85348\n",
      "[2300]\tvalidation_0-auc:0.85348\n",
      "[2350]\tvalidation_0-auc:0.85348\n",
      "[2400]\tvalidation_0-auc:0.85348\n",
      "[2450]\tvalidation_0-auc:0.85348\n",
      "[2500]\tvalidation_0-auc:0.85348\n",
      "[2550]\tvalidation_0-auc:0.85348\n",
      "[2600]\tvalidation_0-auc:0.85348\n",
      "[2650]\tvalidation_0-auc:0.85347\n",
      "[2700]\tvalidation_0-auc:0.85347\n",
      "[2750]\tvalidation_0-auc:0.85347\n",
      "[2800]\tvalidation_0-auc:0.85347\n",
      "[2850]\tvalidation_0-auc:0.85347\n",
      "[2900]\tvalidation_0-auc:0.85347\n",
      "[2950]\tvalidation_0-auc:0.85347\n",
      "[3000]\tvalidation_0-auc:0.85346\n",
      "[3050]\tvalidation_0-auc:0.85346\n",
      "[3100]\tvalidation_0-auc:0.85346\n",
      "[3150]\tvalidation_0-auc:0.85346\n",
      "[3200]\tvalidation_0-auc:0.85346\n",
      "[3250]\tvalidation_0-auc:0.85346\n",
      "[3300]\tvalidation_0-auc:0.85346\n",
      "[3350]\tvalidation_0-auc:0.85346\n",
      "[3400]\tvalidation_0-auc:0.85346\n",
      "[3450]\tvalidation_0-auc:0.85345\n",
      "[3500]\tvalidation_0-auc:0.85345\n",
      "[3550]\tvalidation_0-auc:0.85345\n",
      "[3600]\tvalidation_0-auc:0.85345\n",
      "[3650]\tvalidation_0-auc:0.85345\n",
      "[3700]\tvalidation_0-auc:0.85345\n",
      "[3750]\tvalidation_0-auc:0.85345\n",
      "[3800]\tvalidation_0-auc:0.85345\n",
      "[3850]\tvalidation_0-auc:0.85345\n",
      "[3900]\tvalidation_0-auc:0.85345\n",
      "[3950]\tvalidation_0-auc:0.85345\n",
      "[4000]\tvalidation_0-auc:0.85345\n",
      "[4050]\tvalidation_0-auc:0.85345\n",
      "[4100]\tvalidation_0-auc:0.85345\n",
      "[4150]\tvalidation_0-auc:0.85345\n",
      "[4200]\tvalidation_0-auc:0.85345\n",
      "[4250]\tvalidation_0-auc:0.85344\n",
      "[4300]\tvalidation_0-auc:0.85344\n",
      "[4350]\tvalidation_0-auc:0.85344\n",
      "[4400]\tvalidation_0-auc:0.85344\n",
      "[4450]\tvalidation_0-auc:0.85344\n",
      "[4500]\tvalidation_0-auc:0.85344\n",
      "[4550]\tvalidation_0-auc:0.85344\n",
      "[4600]\tvalidation_0-auc:0.85344\n",
      "[4650]\tvalidation_0-auc:0.85344\n",
      "[4700]\tvalidation_0-auc:0.85344\n",
      "[4750]\tvalidation_0-auc:0.85344\n",
      "[4800]\tvalidation_0-auc:0.85344\n",
      "[4850]\tvalidation_0-auc:0.85344\n",
      "[4900]\tvalidation_0-auc:0.85344\n",
      "[4950]\tvalidation_0-auc:0.85344\n",
      "[5000]\tvalidation_0-auc:0.85344\n",
      "[5050]\tvalidation_0-auc:0.85344\n",
      "[5100]\tvalidation_0-auc:0.85344\n",
      "[5150]\tvalidation_0-auc:0.85344\n",
      "[5200]\tvalidation_0-auc:0.85344\n",
      "[5250]\tvalidation_0-auc:0.85344\n",
      "[5300]\tvalidation_0-auc:0.85344\n",
      "[5350]\tvalidation_0-auc:0.85343\n",
      "[5400]\tvalidation_0-auc:0.85343\n",
      "[5450]\tvalidation_0-auc:0.85343\n",
      "[5500]\tvalidation_0-auc:0.85343\n",
      "[5550]\tvalidation_0-auc:0.85343\n",
      "[5600]\tvalidation_0-auc:0.85343\n",
      "[5650]\tvalidation_0-auc:0.85343\n",
      "[5700]\tvalidation_0-auc:0.85343\n",
      "[5750]\tvalidation_0-auc:0.85343\n",
      "[5800]\tvalidation_0-auc:0.85343\n",
      "[5850]\tvalidation_0-auc:0.85343\n",
      "[5900]\tvalidation_0-auc:0.85343\n",
      "[5950]\tvalidation_0-auc:0.85343\n",
      "[6000]\tvalidation_0-auc:0.85343\n",
      "[6050]\tvalidation_0-auc:0.85343\n",
      "[6100]\tvalidation_0-auc:0.85343\n",
      "[6150]\tvalidation_0-auc:0.85343\n",
      "[6200]\tvalidation_0-auc:0.85343\n",
      "[6250]\tvalidation_0-auc:0.85343\n",
      "[6300]\tvalidation_0-auc:0.85343\n",
      "[6350]\tvalidation_0-auc:0.85343\n",
      "[6400]\tvalidation_0-auc:0.85343\n",
      "[6450]\tvalidation_0-auc:0.85343\n",
      "[6500]\tvalidation_0-auc:0.85343\n",
      "[6550]\tvalidation_0-auc:0.85343\n",
      "[6600]\tvalidation_0-auc:0.85343\n",
      "[6650]\tvalidation_0-auc:0.85343\n",
      "[6700]\tvalidation_0-auc:0.85343\n",
      "[6750]\tvalidation_0-auc:0.85343\n",
      "[6800]\tvalidation_0-auc:0.85343\n",
      "[6850]\tvalidation_0-auc:0.85343\n",
      "[6900]\tvalidation_0-auc:0.85343\n",
      "[6950]\tvalidation_0-auc:0.85343\n",
      "[7000]\tvalidation_0-auc:0.85343\n",
      "[7050]\tvalidation_0-auc:0.85343\n",
      "[7100]\tvalidation_0-auc:0.85343\n",
      "[7150]\tvalidation_0-auc:0.85343\n",
      "[7200]\tvalidation_0-auc:0.85343\n",
      "[7250]\tvalidation_0-auc:0.85343\n",
      "[7300]\tvalidation_0-auc:0.85343\n",
      "[7350]\tvalidation_0-auc:0.85343\n",
      "[7400]\tvalidation_0-auc:0.85343\n",
      "[7450]\tvalidation_0-auc:0.85343\n",
      "[7500]\tvalidation_0-auc:0.85343\n",
      "[7550]\tvalidation_0-auc:0.85343\n",
      "[7600]\tvalidation_0-auc:0.85343\n",
      "[7650]\tvalidation_0-auc:0.85343\n",
      "[7700]\tvalidation_0-auc:0.85343\n",
      "[7750]\tvalidation_0-auc:0.85343\n",
      "[7800]\tvalidation_0-auc:0.85343\n",
      "[7850]\tvalidation_0-auc:0.85343\n",
      "[7900]\tvalidation_0-auc:0.85343\n",
      "[7950]\tvalidation_0-auc:0.85343\n",
      "[8000]\tvalidation_0-auc:0.85343\n",
      "[8050]\tvalidation_0-auc:0.85343\n",
      "[8100]\tvalidation_0-auc:0.85343\n",
      "[8150]\tvalidation_0-auc:0.85343\n",
      "[8200]\tvalidation_0-auc:0.85343\n",
      "[8250]\tvalidation_0-auc:0.85343\n",
      "[8300]\tvalidation_0-auc:0.85343\n",
      "[8350]\tvalidation_0-auc:0.85343\n",
      "[8400]\tvalidation_0-auc:0.85343\n",
      "[8450]\tvalidation_0-auc:0.85343\n",
      "[8500]\tvalidation_0-auc:0.85343\n",
      "[8550]\tvalidation_0-auc:0.85343\n",
      "[8600]\tvalidation_0-auc:0.85343\n",
      "[8650]\tvalidation_0-auc:0.85343\n",
      "[8700]\tvalidation_0-auc:0.85343\n",
      "[8750]\tvalidation_0-auc:0.85343\n",
      "[8800]\tvalidation_0-auc:0.85343\n",
      "[8850]\tvalidation_0-auc:0.85343\n",
      "[8900]\tvalidation_0-auc:0.85343\n",
      "[8950]\tvalidation_0-auc:0.85343\n",
      "[9000]\tvalidation_0-auc:0.85343\n",
      "[9050]\tvalidation_0-auc:0.85343\n",
      "[9100]\tvalidation_0-auc:0.85343\n",
      "[9150]\tvalidation_0-auc:0.85343\n",
      "[9200]\tvalidation_0-auc:0.85343\n",
      "[9250]\tvalidation_0-auc:0.85343\n",
      "[9300]\tvalidation_0-auc:0.85343\n",
      "[9350]\tvalidation_0-auc:0.85343\n",
      "[9400]\tvalidation_0-auc:0.85343\n",
      "[9450]\tvalidation_0-auc:0.85343\n",
      "[9500]\tvalidation_0-auc:0.85343\n",
      "[9550]\tvalidation_0-auc:0.85343\n",
      "[9600]\tvalidation_0-auc:0.85343\n",
      "[9650]\tvalidation_0-auc:0.85343\n",
      "[9700]\tvalidation_0-auc:0.85343\n",
      "[9750]\tvalidation_0-auc:0.85343\n",
      "[9800]\tvalidation_0-auc:0.85343\n",
      "[9850]\tvalidation_0-auc:0.85343\n",
      "[9900]\tvalidation_0-auc:0.85343\n",
      "[9950]\tvalidation_0-auc:0.85343\n",
      "[9999]\tvalidation_0-auc:0.85343\n",
      "f1 score =  0.7961508906272247\n",
      "recall =  0.7997148387287422\n"
     ]
    }
   ],
   "source": [
    "xgbc = XGBClassifier(n_estimators=10000, max_depth=15, objective='binary:logistic', eval_metric='auc', max_bin=50000)\n",
    "xgbc.fit(\n",
    "    X_train.values,\n",
    "    y_train.values,\n",
    "    eval_set=[(X_test.values, y_test.values)],\n",
    "    verbose=50\n",
    ")\n",
    "pred = xgbc.predict(X_test.values)\n",
    "print(\"f1 score = \", f1_score(y_test.values, pred, average='weighted'))\n",
    "print(\"recall = \", recall_score(y_test.values, pred, average='weighted'))"
   ]
  },
  {
   "cell_type": "markdown",
   "id": "9c40950a",
   "metadata": {},
   "source": [
    "# Финальное тестирование"
   ]
  },
  {
   "cell_type": "code",
   "execution_count": 32,
   "id": "4227cfcf",
   "metadata": {},
   "outputs": [],
   "source": [
    "test_data = whole_data[5_000_000:].copy()"
   ]
  },
  {
   "cell_type": "code",
   "execution_count": 33,
   "id": "c42df02c",
   "metadata": {},
   "outputs": [],
   "source": [
    "def process_data(data):\n",
    "    data[\"Gender\"] = data[\"Gender\"].apply(lambda line: 0 if line == \"Female\" else 1).values\n",
    "    data[\"Vehicle_Damage\"] = data[\"Vehicle_Damage\"].apply(lambda line: 0 if line == \"No\" else 1).values\n",
    "    for col_name in data.columns:\n",
    "        if data.dtypes[col_name] == 'float64':\n",
    "            data[col_name] = data[col_name].apply(int)\n",
    "    dummy_car_age = pd.get_dummies(data['Vehicle_Age'], drop_first=True, prefix='Vehicle_Age')\n",
    "    data = pd.concat([data, dummy_car_age], axis=1)\n",
    "    data = data.drop(columns=[\"Vehicle_Age\"])\n",
    "    filtered_data = data.drop(columns=[col for col in data.columns if col not in usefull_cols])\n",
    "    filtered_data[\"Policy_Sales_Channel_Small\"] = filtered_data[\"Policy_Sales_Channel\"].apply(lambda val : 1 if val < 80 else 0)\n",
    "    # filtered_data[\"Policy_Sales_Channel_Middle\"] = filtered_data[\"Policy_Sales_Channel\"].apply(lambda val : 1 if val >= 80 and val < 140 else 0)\n",
    "    filtered_data[\"Policy_Sales_Channel_Large\"] = filtered_data[\"Policy_Sales_Channel\"].apply(lambda val : 1 if val > 140 else 0)\n",
    "    filtered_data = filtered_data.drop(columns=[\"Policy_Sales_Channel\"])\n",
    "    return filtered_data"
   ]
  },
  {
   "cell_type": "code",
   "execution_count": 34,
   "id": "56b083b9",
   "metadata": {},
   "outputs": [],
   "source": [
    "processed_test_data = process_data(test_data)"
   ]
  },
  {
   "cell_type": "code",
   "execution_count": 35,
   "id": "7279981e",
   "metadata": {},
   "outputs": [],
   "source": [
    "Y_processed_test_data = processed_test_data[\"Response\"]\n",
    "X_processed_test_data = processed_test_data.drop(columns=[\"Response\"])"
   ]
  },
  {
   "cell_type": "code",
   "execution_count": 36,
   "id": "5da6117e",
   "metadata": {},
   "outputs": [
    {
     "name": "stdout",
     "output_type": "stream",
     "text": [
      "f1 score =  0.7530667595762444\n",
      "recall =  0.7020337910570013\n"
     ]
    }
   ],
   "source": [
    "pred = dtc.predict(X_processed_test_data)\n",
    "print(\"f1 score = \", f1_score(Y_processed_test_data, pred, average='weighted'))\n",
    "print(\"recall = \", recall_score(Y_processed_test_data, pred, average='weighted'))"
   ]
  },
  {
   "cell_type": "code",
   "execution_count": 44,
   "id": "335ae2cf",
   "metadata": {},
   "outputs": [
    {
     "name": "stdout",
     "output_type": "stream",
     "text": [
      "f1 score =  0.7533520020732386\n",
      "recall =  0.7023843015570967\n"
     ]
    }
   ],
   "source": [
    "pred = rfc.predict(X_processed_test_data)\n",
    "print(\"f1 score = \", f1_score(Y_processed_test_data, pred, average='weighted'))\n",
    "print(\"recall = \", recall_score(Y_processed_test_data, pred, average='weighted'))"
   ]
  },
  {
   "cell_type": "code",
   "execution_count": 73,
   "id": "eceb7715",
   "metadata": {},
   "outputs": [
    {
     "name": "stdout",
     "output_type": "stream",
     "text": [
      "f1 score =  0.6985982623218825\n",
      "recall =  0.6374516164837094\n"
     ]
    }
   ],
   "source": [
    "pred = xgbc.predict(X_processed_test_data)\n",
    "print(\"f1 score = \", f1_score(Y_processed_test_data, pred, average='weighted'))\n",
    "print(\"recall = \", recall_score(Y_processed_test_data, pred, average='weighted'))"
   ]
  },
  {
   "cell_type": "code",
   "execution_count": 1,
   "id": "8c659279",
   "metadata": {},
   "outputs": [
    {
     "ename": "ModuleNotFoundError",
     "evalue": "No module named 'sklearn'",
     "output_type": "error",
     "traceback": [
      "\u001b[0;31m---------------------------------------------------------------------------\u001b[0m",
      "\u001b[0;31mModuleNotFoundError\u001b[0m                       Traceback (most recent call last)",
      "Cell \u001b[0;32mIn[1], line 1\u001b[0m\n\u001b[0;32m----> 1\u001b[0m \u001b[38;5;28;01mfrom\u001b[39;00m \u001b[38;5;21;01msklearn\u001b[39;00m\u001b[38;5;21;01m.\u001b[39;00m\u001b[38;5;21;01mmetrics\u001b[39;00m \u001b[38;5;28;01mimport\u001b[39;00m make_scorer\n",
      "\u001b[0;31mModuleNotFoundError\u001b[0m: No module named 'sklearn'"
     ]
    }
   ],
   "source": [
    "from sklearn.metrics import make_scorer"
   ]
  },
  {
   "cell_type": "code",
   "execution_count": 2,
   "id": "629ea062",
   "metadata": {},
   "outputs": [],
   "source": [
    "import pandas as pd\n",
    "\n",
    "from pydantic import BaseModel"
   ]
  },
  {
   "cell_type": "code",
   "execution_count": null,
   "id": "ec41477a",
   "metadata": {},
   "outputs": [],
   "source": [
    "class PredictionRequest(BaseModel):\n",
    "    Gender: str\n",
    "    Age : int\n",
    "    Driving_License : str\n",
    "    Region_Code : int\n",
    "    Previously_Insured : str\n",
    "    Vehicle_Age : str\n",
    "    Vehicle_Damage : str\n",
    "    Annual_Premium : int\n",
    "    Policy_Sales_Channel : int\n",
    "    Vintage : int\n",
    "    # value : str"
   ]
  },
  {
   "cell_type": "code",
   "execution_count": null,
   "id": "ad407e24",
   "metadata": {},
   "outputs": [],
   "source": [
    "# id                        int64\n",
    "# Gender                   object\n",
    "# Age                       int64\n",
    "# Driving_License           int64\n",
    "# Region_Code             float64\n",
    "# Previously_Insured        int64\n",
    "# Vehicle_Age              object\n",
    "# Vehicle_Damage           object\n",
    "# Annual_Premium          float64\n",
    "# Policy_Sales_Channel    float64\n",
    "# Vintage                   int64\n",
    "# Response                  int64"
   ]
  },
  {
   "cell_type": "code",
   "execution_count": null,
   "id": "61037889",
   "metadata": {},
   "outputs": [],
   "source": [
    "predictionRequest = PredictionRequest()\n",
    "pd.DataFrame({\n",
    "    \"id\": 0\n",
    "    \"Gender\" : [predictionRequest.Gender],\n",
    "    \"Age\" : [predictionRequest.Age],\n",
    "    \"Driving_License\": [1 if predictionRequest.Driving_License == \"Yes\" else 0],\n",
    "    \"Region_Code\" : float(predictionRequest.Region_Code),\n",
    "    \"Previously_Insured\" : [1 if predictionRequest.Previously_Insured == \"Yes\" else 0],\n",
    "    \"Vehicle_Age\" : predictionRequest.Vehicle_Age,\n",
    "    \"Vehicle_Damage\" : predictionRequest.Vehicle_Damage,\n",
    "    \"Annual_Premium\" : float(predictionRequest.Annual_Premium)\n",
    "    \"Policy_Sales_Channel\" : float(predictionRequest.Policy_Sales_Channel)\n",
    "    \"Vintage\" : predictionRequest.Vintage\n",
    "    \"Response\" - 1\n",
    "})"
   ]
  }
 ],
 "metadata": {
  "kernelspec": {
   "display_name": "server_env",
   "language": "python",
   "name": "python3"
  },
  "language_info": {
   "codemirror_mode": {
    "name": "ipython",
    "version": 3
   },
   "file_extension": ".py",
   "mimetype": "text/x-python",
   "name": "python",
   "nbconvert_exporter": "python",
   "pygments_lexer": "ipython3",
   "version": "3.12.3"
  }
 },
 "nbformat": 4,
 "nbformat_minor": 5
}
